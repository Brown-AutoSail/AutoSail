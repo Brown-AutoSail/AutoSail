{
 "cells": [
  {
   "cell_type": "markdown",
   "id": "c90c1151-0155-46f7-9ddc-bcb04577cff5",
   "metadata": {},
   "source": [
    "# Load Generator Notebook"
   ]
  },
  {
   "cell_type": "code",
   "execution_count": 1,
   "id": "c18fb8fe-41f4-420b-9bd1-012793bbe795",
   "metadata": {},
   "outputs": [],
   "source": [
    "GATEWAY_URL = '34.133.80.64:80'\n",
    "\n",
    "def generate_load(num_clients, num_reqs):\n",
    "    cmd = \"docker run load-test -h {url} -r {num_reqs} -c {num_clients}\".format(url = GATEWAY_URL, num_reqs = num_reqs, num_clients = num_clients)\n",
    "    return cmd\n",
    "\n",
    "def generate_load_args(num_clients, num_reqs):\n",
    "    args = \"-h {url} -r {num_reqs} -c {num_clients}\".format(url = GATEWAY_URL, num_reqs = num_reqs, num_clients = num_clients)\n",
    "    return args"
   ]
  },
  {
   "cell_type": "markdown",
   "id": "b6f8d875-87ca-4a7f-a1a6-68e88e3c17be",
   "metadata": {},
   "source": [
    "## First Method: Use Docker Client to run load generator"
   ]
  },
  {
   "cell_type": "code",
   "execution_count": 2,
   "id": "54be4992-13de-4ea8-bbcc-6e3304dff5aa",
   "metadata": {},
   "outputs": [
    {
     "data": {
      "text/plain": [
       "b'Locust file: /config/locustfile.py\\nWill run /config/locustfile.py against 34.133.80.64:80. Spawning 250 clients and 2500 total requests.\\ndone\\n'"
      ]
     },
     "execution_count": 2,
     "metadata": {},
     "output_type": "execute_result"
    }
   ],
   "source": [
    "import docker\n",
    "client = docker.from_env()\n",
    "args = generate_load_args(250, 2500)\n",
    "client.containers.run(\"load-test\", args)"
   ]
  },
  {
   "cell_type": "markdown",
   "id": "c670bba5-0525-468f-88cd-6e2275fc3bbf",
   "metadata": {},
   "source": [
    "## Second Method: Use `os.System` to run load generator"
   ]
  },
  {
   "cell_type": "code",
   "execution_count": 26,
   "id": "e7dabced-7862-453c-8313-c0abf564c009",
   "metadata": {},
   "outputs": [
    {
     "name": "stdout",
     "output_type": "stream",
     "text": [
      "Locust file: /config/locustfile.py\n",
      "Will run /config/locustfile.py against 34.133.80.64:80. Spawning 50 clients and 1000 total requests.\n"
     ]
    },
    {
     "name": "stderr",
     "output_type": "stream",
     "text": [
      "[2021-12-03 02:32:20,490] 0e10261c41e1/INFO/locust.main: Starting Locust 0.7.5\n",
      "[2021-12-03 02:32:20,491] 0e10261c41e1/INFO/locust.runners: Hatching and swarming 50 clients at the rate 5 clients/s...\n",
      "[2021-12-03 02:32:30,548] 0e10261c41e1/INFO/locust.runners: All locusts hatched: Web: 50\n",
      "[2021-12-03 02:32:30,548] 0e10261c41e1/INFO/locust.runners: Resetting stats\n",
      "\n",
      "[2021-12-03 02:32:41,630] 0e10261c41e1/INFO/locust.runners: All locusts dead\n",
      "\n",
      "[2021-12-03 02:32:41,631] 0e10261c41e1/INFO/locust.main: Shutting down (exit code 1), bye.\n",
      " Name                                                          # reqs      # fails     Avg     Min     Max  |  Median   req/s\n",
      "--------------------------------------------------------------------------------------------------------------------------------------------\n",
      " GET /                                                            110     0(0.00%)     239     115     390  |     220    9.44\n",
      " GET /basket.html                                                 112     0(0.00%)     264     167     402  |     250   10.78\n",
      " DELETE /cart                                                      34   70(67.31%)     451     305     600  |     480    3.78\n",
      " POST /cart                                                        42   71(62.83%)     721     591     889  |     710    4.67\n",
      " GET /catalogue                                                   108     0(0.00%)     464     297     717  |     470    9.11\n",
      " GET /category.html                                               118     0(0.00%)     238      87     408  |     220   10.22\n",
      " GET /detail.html?id=03fef6ac-1896-4ce8-bd69-b798f85c6e0b          12     0(0.00%)     252     103     303  |     280    0.78\n",
      " GET /detail.html?id=3395a43e-2d88-40de-b95f-e00e1502085b           9     0(0.00%)     240      91     325  |     260    0.78\n",
      " GET /detail.html?id=510a0d7e-8e83-4193-b483-e27e09ddc34d          10     0(0.00%)     266     218     302  |     260    0.67\n",
      " GET /detail.html?id=808a2de1-1aaa-4c25-a9b9-6612e8f29a38          10     0(0.00%)     220     127     318  |     210    1.11\n",
      " GET /detail.html?id=819e1fbf-8b7e-4f6d-811f-693534916a8b          12     0(0.00%)     227      73     297  |     220    1.11\n",
      " GET /detail.html?id=837ab141-399e-4c1f-9abc-bace40296bac          10     0(0.00%)     224     163     293  |     200    0.78\n",
      " GET /detail.html?id=a0a4f044-b040-410d-8ead-4de0446aec7e          15     0(0.00%)     248      96     332  |     280    1.33\n",
      " GET /detail.html?id=d3588630-ad8e-49df-bbd7-3167f7efb246          16     0(0.00%)     234     100     307  |     260    1.56\n",
      " GET /detail.html?id=zzz4f044-b040-410d-8ead-4de0446aec7e          18     0(0.00%)     194      97     328  |     190    1.44\n",
      " GET /login                                                       118     0(0.00%)     705     494     895  |     700    9.89\n",
      " POST /orders                                                     104     1(0.95%)     974     681    1186  |     970    9.56\n",
      "--------------------------------------------------------------------------------------------------------------------------------------------\n",
      " Total                                                            858  142(16.55%)                                      77.00\n",
      "\n",
      "Percentage of the requests completed within given times\n",
      " Name                                                           # reqs    50%    66%    75%    80%    90%    95%    98%    99%   100%\n",
      "--------------------------------------------------------------------------------------------------------------------------------------------\n",
      " GET /                                                             110    220    270    290    300    330    350    370    390    390\n",
      " GET /basket.html                                                  112    250    290    300    310    330    340    350    380    402\n",
      " DELETE /cart                                                       34    480    490    490    500    510    560    600    600    600\n",
      " POST /cart                                                         42    710    730    780    800    810    890    890    890    889\n",
      " GET /catalogue                                                    108    480    490    500    510    520    590    600    610    717\n",
      " GET /category.html                                                118    220    270    280    290    310    340    350    350    408\n",
      " GET /detail.html?id=03fef6ac-1896-4ce8-bd69-b798f85c6e0b           12    280    280    290    290    300    300    300    300    303\n",
      " GET /detail.html?id=3395a43e-2d88-40de-b95f-e00e1502085b            9    260    290    290    310    330    330    330    330    325\n",
      " GET /detail.html?id=510a0d7e-8e83-4193-b483-e27e09ddc34d           10    270    280    290    290    300    300    300    300    302\n",
      " GET /detail.html?id=808a2de1-1aaa-4c25-a9b9-6612e8f29a38           10    240    270    270    270    320    320    320    320    318\n",
      " GET /detail.html?id=819e1fbf-8b7e-4f6d-811f-693534916a8b           12    270    280    290    290    290    300    300    300    297\n",
      " GET /detail.html?id=837ab141-399e-4c1f-9abc-bace40296bac           10    210    260    270    290    290    290    290    290    293\n",
      " GET /detail.html?id=a0a4f044-b040-410d-8ead-4de0446aec7e           15    280    290    300    300    320    330    330    330    332\n",
      " GET /detail.html?id=d3588630-ad8e-49df-bbd7-3167f7efb246           16    260    270    300    300    300    310    310    310    307\n",
      " GET /detail.html?id=zzz4f044-b040-410d-8ead-4de0446aec7e           18    200    220    240    270    290    330    330    330    328\n",
      " GET /login                                                        118    700    740    770    790    800    850    890    890    895\n",
      " POST /orders                                                      104    970   1000   1100   1100   1100   1200   1200   1200   1186\n",
      "--------------------------------------------------------------------------------------------------------------------------------------------\n",
      "\n",
      "Error report\n",
      " # occurences       Error                                                                                               \n",
      "--------------------------------------------------------------------------------------------------------------------------------------------\n",
      " 7                  POST /orders: \"HTTPError(u'406 Client Error: Not Acceptable for url: http://34.133.80.64:80/orders',)\"\n",
      " 71                 POST /cart: \"HTTPError(u'500 Server Error: Internal Server Error for url: http://34.133.80.64:80/cart',)\"\n",
      " 70                 DELETE /cart: \"HTTPError(u'503 Server Error: Service Unavailable for url: http://34.133.80.64:80/cart',)\"\n",
      "--------------------------------------------------------------------------------------------------------------------------------------------\n",
      "\n"
     ]
    },
    {
     "name": "stdout",
     "output_type": "stream",
     "text": [
      "done\n"
     ]
    }
   ],
   "source": [
    "import os\n",
    "cmd = generate_load(50, 1000)\n",
    "result = os.system(cmd)\n",
    "# import commands\n",
    "# status, output = commands.getstatusoutput(cmd)"
   ]
  }
 ],
 "metadata": {
  "environment": {
   "kernel": "python3",
   "name": "tf2-gpu.2-6.m86",
   "type": "gcloud",
   "uri": "gcr.io/deeplearning-platform-release/tf2-gpu.2-6:m86"
  },
  "kernelspec": {
   "display_name": "Python 3",
   "language": "python",
   "name": "python3"
  },
  "language_info": {
   "codemirror_mode": {
    "name": "ipython",
    "version": 3
   },
   "file_extension": ".py",
   "mimetype": "text/x-python",
   "name": "python",
   "nbconvert_exporter": "python",
   "pygments_lexer": "ipython3",
   "version": "3.7.12"
  }
 },
 "nbformat": 4,
 "nbformat_minor": 5
}
