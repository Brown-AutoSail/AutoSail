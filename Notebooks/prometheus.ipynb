{
 "cells": [
  {
   "cell_type": "code",
   "execution_count": 33,
   "id": "0cfe4458-847c-4185-b321-0ac2d4e80f91",
   "metadata": {},
   "outputs": [],
   "source": [
    "from subprocess import Popen\n",
    "from prometheus_api_client import PrometheusConnect\n",
    "\n",
    "prometheus_host_cmd = [\"/home/jupyter/.istioctl/bin/istioctl\", \"dashboard\", \"prometheus\"]\n",
    "prometheus_host = \"http://localhost:9090\""
   ]
  },
  {
   "cell_type": "code",
   "execution_count": 34,
   "id": "a79ffc9d-641c-46b4-872d-9b4b64f5f6ea",
   "metadata": {},
   "outputs": [
    {
     "name": "stdout",
     "output_type": "stream",
     "text": [
      "http://localhost:9090\n"
     ]
    }
   ],
   "source": [
    "# start a local Prometheus host\n",
    "host = subprocess.Popen(prometheus_host_cmd)"
   ]
  },
  {
   "cell_type": "code",
   "execution_count": null,
   "id": "a7aeacf0-a301-4188-8939-5bfc82f326ed",
   "metadata": {},
   "outputs": [
    {
     "name": "stdout",
     "output_type": "stream",
     "text": [
      "['aggregator_openapi_v2_regeneration_count', 'aggregator_openapi_v2_regeneration_duration', 'aggregator_unavailable_apiservice', 'aggregator_unavailable_apiservice_total', 'apiextensions_openapi_v2_regeneration_count', 'apiserver_admission_controller_admission_duration_seconds_bucket', 'apiserver_admission_controller_admission_duration_seconds_count', 'apiserver_admission_controller_admission_duration_seconds_sum', 'apiserver_admission_step_admission_duration_seconds_bucket', 'apiserver_admission_step_admission_duration_seconds_count']\n"
     ]
    }
   ],
   "source": [
    "client = PrometheusConnect(url =prometheus_host, disable_ssl=True)\n",
    "\n",
    "# Get all metrics\n",
    "metrics = client.all_metrics()\n",
    "\n",
    "# first 10\n",
    "print (metrics[:10])"
   ]
  },
  {
   "cell_type": "code",
   "execution_count": null,
   "id": "bd0d94d2-72f6-4143-b63d-ea5338aeac69",
   "metadata": {},
   "outputs": [
    {
     "name": "stdout",
     "output_type": "stream",
     "text": [
      "['istio_agent_endpoint_no_pod', 'istio_agent_go_gc_duration_seconds', 'istio_agent_go_gc_duration_seconds_count', 'istio_agent_go_gc_duration_seconds_sum', 'istio_agent_go_goroutines', 'istio_agent_go_info', 'istio_agent_go_memstats_alloc_bytes', 'istio_agent_go_memstats_alloc_bytes_total', 'istio_agent_go_memstats_buck_hash_sys_bytes', 'istio_agent_go_memstats_frees_total', 'istio_agent_go_memstats_gc_cpu_fraction', 'istio_agent_go_memstats_gc_sys_bytes', 'istio_agent_go_memstats_heap_alloc_bytes', 'istio_agent_go_memstats_heap_idle_bytes', 'istio_agent_go_memstats_heap_inuse_bytes', 'istio_agent_go_memstats_heap_objects', 'istio_agent_go_memstats_heap_released_bytes', 'istio_agent_go_memstats_heap_sys_bytes', 'istio_agent_go_memstats_last_gc_time_seconds', 'istio_agent_go_memstats_lookups_total', 'istio_agent_go_memstats_mallocs_total', 'istio_agent_go_memstats_mcache_inuse_bytes', 'istio_agent_go_memstats_mcache_sys_bytes', 'istio_agent_go_memstats_mspan_inuse_bytes', 'istio_agent_go_memstats_mspan_sys_bytes', 'istio_agent_go_memstats_next_gc_bytes', 'istio_agent_go_memstats_other_sys_bytes', 'istio_agent_go_memstats_stack_inuse_bytes', 'istio_agent_go_memstats_stack_sys_bytes', 'istio_agent_go_memstats_sys_bytes', 'istio_agent_go_threads', 'istio_agent_istiod_connection_terminations', 'istio_agent_num_outgoing_requests', 'istio_agent_outgoing_latency', 'istio_agent_pilot_conflict_inbound_listener', 'istio_agent_pilot_conflict_outbound_listener_http_over_current_tcp', 'istio_agent_pilot_conflict_outbound_listener_tcp_over_current_http', 'istio_agent_pilot_conflict_outbound_listener_tcp_over_current_tcp', 'istio_agent_pilot_destrule_subsets', 'istio_agent_pilot_duplicate_envoy_clusters', 'istio_agent_pilot_eds_no_instances', 'istio_agent_pilot_endpoint_not_ready', 'istio_agent_pilot_no_ip', 'istio_agent_pilot_proxy_convergence_time_bucket', 'istio_agent_pilot_proxy_convergence_time_count', 'istio_agent_pilot_proxy_convergence_time_sum', 'istio_agent_pilot_proxy_queue_time_bucket', 'istio_agent_pilot_proxy_queue_time_count', 'istio_agent_pilot_proxy_queue_time_sum', 'istio_agent_pilot_push_triggers', 'istio_agent_pilot_virt_services', 'istio_agent_pilot_vservice_dup_domain', 'istio_agent_pilot_xds', 'istio_agent_pilot_xds_config_size_bytes_bucket', 'istio_agent_pilot_xds_config_size_bytes_count', 'istio_agent_pilot_xds_config_size_bytes_sum', 'istio_agent_pilot_xds_expired_nonce', 'istio_agent_pilot_xds_push_time_bucket', 'istio_agent_pilot_xds_push_time_count', 'istio_agent_pilot_xds_push_time_sum', 'istio_agent_pilot_xds_pushes', 'istio_agent_pilot_xds_send_time_bucket', 'istio_agent_pilot_xds_send_time_count', 'istio_agent_pilot_xds_send_time_sum', 'istio_agent_process_cpu_seconds_total', 'istio_agent_process_max_fds', 'istio_agent_process_open_fds', 'istio_agent_process_resident_memory_bytes', 'istio_agent_process_start_time_seconds', 'istio_agent_process_virtual_memory_bytes', 'istio_agent_process_virtual_memory_max_bytes', 'istio_agent_scrapes_total', 'istio_agent_startup_duration_seconds', 'istio_agent_wasm_cache_entries', 'istio_build', 'istio_request_bytes_bucket', 'istio_request_bytes_count', 'istio_request_bytes_sum', 'istio_request_duration_milliseconds_bucket', 'istio_request_duration_milliseconds_count', 'istio_request_duration_milliseconds_sum', 'istio_requests_total', 'istio_response_bytes_bucket', 'istio_response_bytes_count', 'istio_response_bytes_sum', 'istio_tcp_connections_closed_total', 'istio_tcp_connections_opened_total', 'istio_tcp_received_bytes_total', 'istio_tcp_sent_bytes_total', 'istiod_managed_clusters', 'istiod_uptime_seconds']\n"
     ]
    }
   ],
   "source": [
    "# sockshop exposed metrics\n",
    "sockshop_metrics = filter(lambda m: m.startswith(\"istio\"), metrics)\n",
    "print(list(sockshop_metrics))"
   ]
  },
  {
   "cell_type": "code",
   "execution_count": 30,
   "id": "cc1f117e-8224-4437-a9ca-ff844045cf9e",
   "metadata": {},
   "outputs": [
    {
     "data": {
      "text/plain": [
       "[{'metric': {'__name__': 'microservices_demo_user_request_latency_microseconds',\n",
       "   'instance': '10.44.2.4:80',\n",
       "   'job': 'kubernetes-service-endpoints',\n",
       "   'kubernetes_name': 'user',\n",
       "   'kubernetes_namespace': 'sock-shop',\n",
       "   'kubernetes_node': 'gke-sock-shop-default-pool-f843b13f-kgqb',\n",
       "   'method': 'getAddresses',\n",
       "   'name': 'user',\n",
       "   'quantile': '0.5'},\n",
       "  'value': [1638588631.263, 'NaN']},\n",
       " {'metric': {'__name__': 'microservices_demo_user_request_latency_microseconds',\n",
       "   'instance': '10.44.2.4:80',\n",
       "   'job': 'kubernetes-service-endpoints',\n",
       "   'kubernetes_name': 'user',\n",
       "   'kubernetes_namespace': 'sock-shop',\n",
       "   'kubernetes_node': 'gke-sock-shop-default-pool-f843b13f-kgqb',\n",
       "   'method': 'getAddresses',\n",
       "   'name': 'user',\n",
       "   'quantile': '0.9'},\n",
       "  'value': [1638588631.263, 'NaN']},\n",
       " {'metric': {'__name__': 'microservices_demo_user_request_latency_microseconds',\n",
       "   'instance': '10.44.2.4:80',\n",
       "   'job': 'kubernetes-service-endpoints',\n",
       "   'kubernetes_name': 'user',\n",
       "   'kubernetes_namespace': 'sock-shop',\n",
       "   'kubernetes_node': 'gke-sock-shop-default-pool-f843b13f-kgqb',\n",
       "   'method': 'getAddresses',\n",
       "   'name': 'user',\n",
       "   'quantile': '0.99'},\n",
       "  'value': [1638588631.263, 'NaN']},\n",
       " {'metric': {'__name__': 'microservices_demo_user_request_latency_microseconds',\n",
       "   'instance': '10.44.2.4:80',\n",
       "   'job': 'kubernetes-service-endpoints',\n",
       "   'kubernetes_name': 'user',\n",
       "   'kubernetes_namespace': 'sock-shop',\n",
       "   'kubernetes_node': 'gke-sock-shop-default-pool-f843b13f-kgqb',\n",
       "   'method': 'getCards',\n",
       "   'name': 'user',\n",
       "   'quantile': '0.5'},\n",
       "  'value': [1638588631.263, 'NaN']},\n",
       " {'metric': {'__name__': 'microservices_demo_user_request_latency_microseconds',\n",
       "   'instance': '10.44.2.4:80',\n",
       "   'job': 'kubernetes-service-endpoints',\n",
       "   'kubernetes_name': 'user',\n",
       "   'kubernetes_namespace': 'sock-shop',\n",
       "   'kubernetes_node': 'gke-sock-shop-default-pool-f843b13f-kgqb',\n",
       "   'method': 'getCards',\n",
       "   'name': 'user',\n",
       "   'quantile': '0.9'},\n",
       "  'value': [1638588631.263, 'NaN']},\n",
       " {'metric': {'__name__': 'microservices_demo_user_request_latency_microseconds',\n",
       "   'instance': '10.44.2.4:80',\n",
       "   'job': 'kubernetes-service-endpoints',\n",
       "   'kubernetes_name': 'user',\n",
       "   'kubernetes_namespace': 'sock-shop',\n",
       "   'kubernetes_node': 'gke-sock-shop-default-pool-f843b13f-kgqb',\n",
       "   'method': 'getCards',\n",
       "   'name': 'user',\n",
       "   'quantile': '0.99'},\n",
       "  'value': [1638588631.263, 'NaN']},\n",
       " {'metric': {'__name__': 'microservices_demo_user_request_latency_microseconds',\n",
       "   'instance': '10.44.2.4:80',\n",
       "   'job': 'kubernetes-service-endpoints',\n",
       "   'kubernetes_name': 'user',\n",
       "   'kubernetes_namespace': 'sock-shop',\n",
       "   'kubernetes_node': 'gke-sock-shop-default-pool-f843b13f-kgqb',\n",
       "   'method': 'getUsers',\n",
       "   'name': 'user',\n",
       "   'quantile': '0.5'},\n",
       "  'value': [1638588631.263, 'NaN']},\n",
       " {'metric': {'__name__': 'microservices_demo_user_request_latency_microseconds',\n",
       "   'instance': '10.44.2.4:80',\n",
       "   'job': 'kubernetes-service-endpoints',\n",
       "   'kubernetes_name': 'user',\n",
       "   'kubernetes_namespace': 'sock-shop',\n",
       "   'kubernetes_node': 'gke-sock-shop-default-pool-f843b13f-kgqb',\n",
       "   'method': 'getUsers',\n",
       "   'name': 'user',\n",
       "   'quantile': '0.9'},\n",
       "  'value': [1638588631.263, 'NaN']},\n",
       " {'metric': {'__name__': 'microservices_demo_user_request_latency_microseconds',\n",
       "   'instance': '10.44.2.4:80',\n",
       "   'job': 'kubernetes-service-endpoints',\n",
       "   'kubernetes_name': 'user',\n",
       "   'kubernetes_namespace': 'sock-shop',\n",
       "   'kubernetes_node': 'gke-sock-shop-default-pool-f843b13f-kgqb',\n",
       "   'method': 'getUsers',\n",
       "   'name': 'user',\n",
       "   'quantile': '0.99'},\n",
       "  'value': [1638588631.263, 'NaN']},\n",
       " {'metric': {'__name__': 'microservices_demo_user_request_latency_microseconds',\n",
       "   'instance': '10.44.2.4:80',\n",
       "   'job': 'kubernetes-service-endpoints',\n",
       "   'kubernetes_name': 'user',\n",
       "   'kubernetes_namespace': 'sock-shop',\n",
       "   'kubernetes_node': 'gke-sock-shop-default-pool-f843b13f-kgqb',\n",
       "   'method': 'health',\n",
       "   'name': 'user',\n",
       "   'quantile': '0.5'},\n",
       "  'value': [1638588631.263, '0.0020374850000000003']},\n",
       " {'metric': {'__name__': 'microservices_demo_user_request_latency_microseconds',\n",
       "   'instance': '10.44.2.4:80',\n",
       "   'job': 'kubernetes-service-endpoints',\n",
       "   'kubernetes_name': 'user',\n",
       "   'kubernetes_namespace': 'sock-shop',\n",
       "   'kubernetes_node': 'gke-sock-shop-default-pool-f843b13f-kgqb',\n",
       "   'method': 'health',\n",
       "   'name': 'user',\n",
       "   'quantile': '0.9'},\n",
       "  'value': [1638588631.263, '0.002824028']},\n",
       " {'metric': {'__name__': 'microservices_demo_user_request_latency_microseconds',\n",
       "   'instance': '10.44.2.4:80',\n",
       "   'job': 'kubernetes-service-endpoints',\n",
       "   'kubernetes_name': 'user',\n",
       "   'kubernetes_namespace': 'sock-shop',\n",
       "   'kubernetes_node': 'gke-sock-shop-default-pool-f843b13f-kgqb',\n",
       "   'method': 'health',\n",
       "   'name': 'user',\n",
       "   'quantile': '0.99'},\n",
       "  'value': [1638588631.263, '0.003956663']},\n",
       " {'metric': {'__name__': 'microservices_demo_user_request_latency_microseconds',\n",
       "   'instance': '10.44.2.4:80',\n",
       "   'job': 'kubernetes-service-endpoints',\n",
       "   'kubernetes_name': 'user',\n",
       "   'kubernetes_namespace': 'sock-shop',\n",
       "   'kubernetes_node': 'gke-sock-shop-default-pool-f843b13f-kgqb',\n",
       "   'method': 'login',\n",
       "   'name': 'user',\n",
       "   'quantile': '0.5'},\n",
       "  'value': [1638588631.263, 'NaN']},\n",
       " {'metric': {'__name__': 'microservices_demo_user_request_latency_microseconds',\n",
       "   'instance': '10.44.2.4:80',\n",
       "   'job': 'kubernetes-service-endpoints',\n",
       "   'kubernetes_name': 'user',\n",
       "   'kubernetes_namespace': 'sock-shop',\n",
       "   'kubernetes_node': 'gke-sock-shop-default-pool-f843b13f-kgqb',\n",
       "   'method': 'login',\n",
       "   'name': 'user',\n",
       "   'quantile': '0.9'},\n",
       "  'value': [1638588631.263, 'NaN']},\n",
       " {'metric': {'__name__': 'microservices_demo_user_request_latency_microseconds',\n",
       "   'instance': '10.44.2.4:80',\n",
       "   'job': 'kubernetes-service-endpoints',\n",
       "   'kubernetes_name': 'user',\n",
       "   'kubernetes_namespace': 'sock-shop',\n",
       "   'kubernetes_node': 'gke-sock-shop-default-pool-f843b13f-kgqb',\n",
       "   'method': 'login',\n",
       "   'name': 'user',\n",
       "   'quantile': '0.99'},\n",
       "  'value': [1638588631.263, 'NaN']}]"
      ]
     },
     "execution_count": 30,
     "metadata": {},
     "output_type": "execute_result"
    }
   ],
   "source": [
    "# make a query on microservices_demo_user_request_latency_microseconds\n",
    "client.custom_query(query=\"microservices_demo_user_request_latency_microseconds\")"
   ]
  },
  {
   "cell_type": "code",
   "execution_count": 37,
   "id": "763cd208-c17a-4a5c-8f3f-cc667143c96c",
   "metadata": {},
   "outputs": [],
   "source": [
    "host.kill()  # don't forget to stop host"
   ]
  },
  {
   "cell_type": "code",
   "execution_count": null,
   "id": "d575291c-dfb1-4c79-b638-0300877abdd7",
   "metadata": {},
   "outputs": [],
   "source": []
  }
 ],
 "metadata": {
  "environment": {
   "kernel": "python3",
   "name": "tf2-gpu.2-6.m86",
   "type": "gcloud",
   "uri": "gcr.io/deeplearning-platform-release/tf2-gpu.2-6:m86"
  },
  "kernelspec": {
   "display_name": "Python 3",
   "language": "python",
   "name": "python3"
  },
  "language_info": {
   "codemirror_mode": {
    "name": "ipython",
    "version": 3
   },
   "file_extension": ".py",
   "mimetype": "text/x-python",
   "name": "python",
   "nbconvert_exporter": "python",
   "pygments_lexer": "ipython3",
   "version": "3.7.12"
  }
 },
 "nbformat": 4,
 "nbformat_minor": 5
}
