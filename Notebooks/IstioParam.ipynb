{
 "cells": [
  {
   "cell_type": "code",
   "execution_count": 7,
   "id": "3c30f753-c356-455c-91dd-74cebb37a4b8",
   "metadata": {},
   "outputs": [],
   "source": [
    "import yaml\n",
    "import os\n",
    "\n",
    "config_file = \"destination-rules.yaml\"\n",
    "kubectl_apply_cmd = \"kubectl apply -f \""
   ]
  },
  {
   "cell_type": "code",
   "execution_count": 44,
   "id": "aa78073e-a9bf-4362-93fe-46706f4d1e7e",
   "metadata": {},
   "outputs": [],
   "source": [
    "# https://istio.io/latest/docs/reference/config/networking/destination-rule/#ConnectionPoolSettings\n",
    "class IstioConfig:\n",
    "    def __init__(self, file_name):\n",
    "        self.file_name = file_name\n",
    "        with open(file_name, \"r\") as stream:\n",
    "            docs = yaml.load_all(stream, Loader=yaml.FullLoader)\n",
    "            self.docs = list(docs)\n",
    "    \n",
    "    # save to yaml file\n",
    "    def save(self):\n",
    "        with open(self.file_name, \"w\") as stream:\n",
    "            yaml.dump_all(self.docs, stream)\n",
    "    \n",
    "    # apply to Istio cluster\n",
    "    def apply(self):\n",
    "        self.save()\n",
    "        os.system(kubectl_apply_cmd + self.file_name)\n",
    "        \n",
    "    # reset to default config (does not save)\n",
    "    def reset(self):\n",
    "        for i in range(self.size()):\n",
    "            ic.docs[i][\"spec\"][\"trafficPolicy\"][\"connectionPool\"][\"http\"] = {}\n",
    "            ic.docs[i][\"spec\"][\"trafficPolicy\"][\"connectionPool\"][\"tcp\"] = {}\n",
    "    \n",
    "    def size(self):\n",
    "        return len(self.docs)\n",
    "    \n",
    "    def get_docs(self):\n",
    "        return self.docs\n",
    "    \n",
    "    def _get_http(self, i):\n",
    "        return ic.docs[i][\"spec\"][\"trafficPolicy\"][\"connectionPool\"][\"http\"]\n",
    "    \n",
    "    def _get_tcp(self, i):\n",
    "        return ic.docs[i][\"spec\"][\"trafficPolicy\"][\"connectionPool\"][\"tcp\"]\n",
    "    \n",
    "    #### tcp ####\n",
    "    # maxConnections: int32\n",
    "    def set_tcp_max_connections(self, i, val):\n",
    "        self._get_tcp(i)[\"maxConnections\"] = val\n",
    "    \n",
    "    # connectTimeout: int (unit ms)\n",
    "    def set_tcp_connect_timeout(self, i, val):\n",
    "        self._get_tcp(i)[\"connectTimeout\"] = str(val) + \"ms\"\n",
    "        \n",
    "    # TcpKeepalive time: int (unit ms)\n",
    "    def set_tcp_keeplive_probes(self, i, val):\n",
    "        val = str(val) + \"ms\"\n",
    "        tcp = self._get_tcp(i)\n",
    "        if \"tcpKeepalive\" in tcp:\n",
    "            tcp[\"tcpKeepalive\"][\"time\"] = val\n",
    "        else:\n",
    "            tcp[\"tcpKeepalive\"] = {\"time\": val}\n",
    "            \n",
    "    # TcpKeepalive time: int (unit ms)\n",
    "    def set_tcp_keeplive_time(self, i, val):\n",
    "        val = str(val) + \"ms\"\n",
    "        tcp = self._get_tcp(i)\n",
    "        if \"tcpKeepalive\" in tcp:\n",
    "            tcp[\"tcpKeepalive\"][\"time\"] = val\n",
    "        else:\n",
    "            tcp[\"tcpKeepalive\"] = {\"time\": val}\n",
    "            \n",
    "    # TcpKeepalive interval: int (unit ms)\n",
    "    def set_tcp_keeplive_interval(self, i, val):\n",
    "        val = str(val) + \"ms\"\n",
    "        tcp = self._get_tcp(i)\n",
    "        if \"tcpKeepalive\" in tcp:\n",
    "            tcp[\"tcpKeepalive\"][\"interval\"] = val\n",
    "        else:\n",
    "            tcp[\"tcpKeepalive\"] = {\"interval\": val}\n",
    "    \n",
    "    #### http ####\n",
    "    # http1MaxPendingRequests: int32\n",
    "    def set_http_http1_max_pending_requests(self, i, val):\n",
    "        self._get_http(i)[\"http1MaxPendingRequests\"] = val\n",
    "    \n",
    "    # http2MaxRequests: int32\n",
    "    def set_http_http2_max_requests(self, i, val):\n",
    "        self._get_http(i)[\"http2MaxRequests\"] = val\n",
    "    \n",
    "    # maxRequestsPerConnection: int32\n",
    "    def set_http_max_requests_per_connection(self, i, val):\n",
    "        self._get_http(i)[\"maxRequestsPerConnection\"] = val\n",
    "        \n",
    "    # maxRetries: int32\n",
    "    def set_http_max_retries(self, i, val):\n",
    "        self._get_http(i)[\"maxRetries\"] = val\n",
    "    \n",
    "    # idleTimeout : int (unit ms)\n",
    "    def set_http_idle_timeout(self, i, val):\n",
    "        self._get_http(i)[\"idleTimeout\"] = str(val) + \"ms\"\n",
    "        \n",
    "    # useClientProtocol: bool\n",
    "    def set_http_use_client_protocol(self, i, val):\n",
    "        self._get_http(i)[\"useClientProtocol\"] = val"
   ]
  },
  {
   "cell_type": "code",
   "execution_count": 37,
   "id": "db8fd2eb-b4bc-44a9-b35a-83b8dbda9190",
   "metadata": {},
   "outputs": [
    {
     "name": "stdout",
     "output_type": "stream",
     "text": [
      "destinationrule.networking.istio.io/carts configured\n",
      "destinationrule.networking.istio.io/carts-db unchanged\n",
      "destinationrule.networking.istio.io/catalogue unchanged\n",
      "destinationrule.networking.istio.io/catalogue-db unchanged\n",
      "destinationrule.networking.istio.io/front-end unchanged\n",
      "destinationrule.networking.istio.io/orders unchanged\n",
      "destinationrule.networking.istio.io/orders-db unchanged\n",
      "destinationrule.networking.istio.io/payment unchanged\n",
      "destinationrule.networking.istio.io/queue-master unchanged\n",
      "destinationrule.networking.istio.io/rabbitmq unchanged\n",
      "destinationrule.networking.istio.io/session-db unchanged\n",
      "destinationrule.networking.istio.io/shipping unchanged\n",
      "destinationrule.networking.istio.io/user unchanged\n",
      "destinationrule.networking.istio.io/user-db unchanged\n"
     ]
    }
   ],
   "source": [
    "ic = IstioConfig(config_file)\n",
    "\n",
    "ic.set_tcp_keeplive_time(0, 150000)\n",
    "\n",
    "ic.apply()"
   ]
  },
  {
   "cell_type": "code",
   "execution_count": 42,
   "id": "e673d5b0-c2ae-4e38-911a-b927977ee393",
   "metadata": {},
   "outputs": [
    {
     "data": {
      "text/plain": [
       "14"
      ]
     },
     "execution_count": 42,
     "metadata": {},
     "output_type": "execute_result"
    }
   ],
   "source": [
    "ic = IstioConfig(config_file)\n",
    "ic.size()"
   ]
  },
  {
   "cell_type": "code",
   "execution_count": 43,
   "id": "c339d17e-9c7d-446c-aa7b-62f2782128e7",
   "metadata": {},
   "outputs": [],
   "source": [
    "ic = IstioConfig(config_file)\n",
    "ic.reset()\n",
    "ic.save()"
   ]
  },
  {
   "cell_type": "code",
   "execution_count": null,
   "id": "2267dd6d-3650-4314-a024-5fb8510b295d",
   "metadata": {},
   "outputs": [],
   "source": []
  }
 ],
 "metadata": {
  "environment": {
   "kernel": "python3",
   "name": "tf2-gpu.2-6.m86",
   "type": "gcloud",
   "uri": "gcr.io/deeplearning-platform-release/tf2-gpu.2-6:m86"
  },
  "kernelspec": {
   "display_name": "Python 3",
   "language": "python",
   "name": "python3"
  },
  "language_info": {
   "codemirror_mode": {
    "name": "ipython",
    "version": 3
   },
   "file_extension": ".py",
   "mimetype": "text/x-python",
   "name": "python",
   "nbconvert_exporter": "python",
   "pygments_lexer": "ipython3",
   "version": "3.7.12"
  }
 },
 "nbformat": 4,
 "nbformat_minor": 5
}
