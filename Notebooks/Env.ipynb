{
 "cells": [
  {
   "cell_type": "code",
   "execution_count": null,
   "id": "0f72806c-e7a6-4ddd-be8f-65f8df535813",
   "metadata": {},
   "outputs": [],
   "source": [
    "import random\n",
    "\n",
    "class Env:\n",
    "    \n",
    "    def __init__(self, istio_configurator, load_generator):\n",
    "        '''\n",
    "            The Environment class should take an istio configurator, and a load\n",
    "            generator. This will be the environment that our RL agent interact with.\n",
    "            \n",
    "            The states are defined by the outputs of the load generators, which\n",
    "            have the rps, total requests, failure rates of each endpoints in\n",
    "            the SockShop.\n",
    "            \n",
    "            The actions are defined by the istio parameters, specifically by the \n",
    "            istio connection pool settings in the Destination Rules.\n",
    "        '''\n",
    "        self.istio_configurator = istio_configurator\n",
    "        self.load_generator = load_generator\n",
    "        \n",
    "    \n",
    "    def generate_initial_state(self):\n",
    "        '''\n",
    "            randomly generate initialize istio configurations,\n",
    "            generate random load.\n",
    "            \n",
    "            return the parsed output of the load generator\n",
    "        '''\n",
    "        #TODO: figure out a range causes troubles\n",
    "    \n",
    "    def evaluate_state(self, state):\n",
    "        '''\n",
    "            evaluate the current state and output a reward function.\n",
    "            Desire high rps and low failure rates.\n",
    "            \n",
    "            return a float as the utility of the state\n",
    "        '''\n",
    "        \n",
    "    def apply_action(self, action):\n",
    "        '''\n",
    "            \n",
    "        '''"
   ]
  }
 ],
 "metadata": {
  "environment": {
   "kernel": "python3",
   "name": "tf2-gpu.2-6.m86",
   "type": "gcloud",
   "uri": "gcr.io/deeplearning-platform-release/tf2-gpu.2-6:m86"
  },
  "kernelspec": {
   "display_name": "Python 3",
   "language": "python",
   "name": "python3"
  },
  "language_info": {
   "codemirror_mode": {
    "name": "ipython",
    "version": 3
   },
   "file_extension": ".py",
   "mimetype": "text/x-python",
   "name": "python",
   "nbconvert_exporter": "python",
   "pygments_lexer": "ipython3",
   "version": "3.7.12"
  }
 },
 "nbformat": 4,
 "nbformat_minor": 5
}
